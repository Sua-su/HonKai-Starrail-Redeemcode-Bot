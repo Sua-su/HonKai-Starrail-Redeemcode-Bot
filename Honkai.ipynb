{
 "cells": [
  {
   "cell_type": "code",
   "execution_count": null,
   "id": "718bcb0f",
   "metadata": {},
   "outputs": [
    {
     "ename": "NoSuchWindowException",
     "evalue": "Message: no such window: target window already closed\nfrom unknown error: web view not found\n  (Session info: chrome=137.0.7151.57)\nStacktrace:\n0   chromedriver                        0x000000010e519728 chromedriver + 5891880\n1   chromedriver                        0x000000010e510e7a chromedriver + 5856890\n2   chromedriver                        0x000000010dfe1400 chromedriver + 418816\n3   chromedriver                        0x000000010dfb5ad0 chromedriver + 240336\n4   chromedriver                        0x000000010e061ba8 chromedriver + 945064\n5   chromedriver                        0x000000010e080a1c chromedriver + 1071644\n6   chromedriver                        0x000000010e0592b3 chromedriver + 910003\n7   chromedriver                        0x000000010e025507 chromedriver + 697607\n8   chromedriver                        0x000000010e026171 chromedriver + 700785\n9   chromedriver                        0x000000010e4d74d0 chromedriver + 5620944\n10  chromedriver                        0x000000010e4db45f chromedriver + 5637215\n11  chromedriver                        0x000000010e4b28e2 chromedriver + 5470434\n12  chromedriver                        0x000000010e4dbdcf chromedriver + 5639631\n13  chromedriver                        0x000000010e4a10a4 chromedriver + 5398692\n14  chromedriver                        0x000000010e4fe688 chromedriver + 5781128\n15  chromedriver                        0x000000010e4fe850 chromedriver + 5781584\n16  chromedriver                        0x000000010e510a41 chromedriver + 5855809\n17  libsystem_pthread.dylib             0x00007ff817f001d3 _pthread_start + 125\n18  libsystem_pthread.dylib             0x00007ff817efbbd3 thread_start + 15\n",
     "output_type": "error",
     "traceback": [
      "\u001b[31m---------------------------------------------------------------------------\u001b[39m",
      "\u001b[31mNoSuchWindowException\u001b[39m                     Traceback (most recent call last)",
      "\u001b[36mCell\u001b[39m\u001b[36m \u001b[39m\u001b[32mIn[2]\u001b[39m\u001b[32m, line 16\u001b[39m\n\u001b[32m     13\u001b[39m query = \u001b[33m\"\u001b[39m\u001b[33mhttps://honkai-star-rail.fandom.com/wiki/Redemption_Code\u001b[39m\u001b[33m\"\u001b[39m\n\u001b[32m     14\u001b[39m browser.get(query)\n\u001b[32m---> \u001b[39m\u001b[32m16\u001b[39m \u001b[43mbrowser\u001b[49m\u001b[43m.\u001b[49m\u001b[43mmaximize_window\u001b[49m\u001b[43m(\u001b[49m\u001b[43m)\u001b[49m\n\u001b[32m     18\u001b[39m time.sleep(\u001b[32m3\u001b[39m)\n\u001b[32m     21\u001b[39m title = browser.title\n",
      "\u001b[36mFile \u001b[39m\u001b[32m~/Documents/HonKai-Starrail-Redeemcode-Bot/env/lib/python3.13/site-packages/selenium/webdriver/remote/webdriver.py:638\u001b[39m, in \u001b[36mWebDriver.maximize_window\u001b[39m\u001b[34m(self)\u001b[39m\n\u001b[32m    631\u001b[39m \u001b[38;5;250m\u001b[39m\u001b[33;03m\"\"\"Maximizes the current window that webdriver is using.\u001b[39;00m\n\u001b[32m    632\u001b[39m \n\u001b[32m    633\u001b[39m \u001b[33;03mExample:\u001b[39;00m\n\u001b[32m    634\u001b[39m \u001b[33;03m--------\u001b[39;00m\n\u001b[32m    635\u001b[39m \u001b[33;03m>>> driver.maximize_window()\u001b[39;00m\n\u001b[32m    636\u001b[39m \u001b[33;03m\"\"\"\u001b[39;00m\n\u001b[32m    637\u001b[39m command = Command.W3C_MAXIMIZE_WINDOW\n\u001b[32m--> \u001b[39m\u001b[32m638\u001b[39m \u001b[38;5;28;43mself\u001b[39;49m\u001b[43m.\u001b[49m\u001b[43mexecute\u001b[49m\u001b[43m(\u001b[49m\u001b[43mcommand\u001b[49m\u001b[43m,\u001b[49m\u001b[43m \u001b[49m\u001b[38;5;28;43;01mNone\u001b[39;49;00m\u001b[43m)\u001b[49m\n",
      "\u001b[36mFile \u001b[39m\u001b[32m~/Documents/HonKai-Starrail-Redeemcode-Bot/env/lib/python3.13/site-packages/selenium/webdriver/remote/webdriver.py:447\u001b[39m, in \u001b[36mWebDriver.execute\u001b[39m\u001b[34m(self, driver_command, params)\u001b[39m\n\u001b[32m    445\u001b[39m response = \u001b[38;5;28mself\u001b[39m.command_executor.execute(driver_command, params)\n\u001b[32m    446\u001b[39m \u001b[38;5;28;01mif\u001b[39;00m response:\n\u001b[32m--> \u001b[39m\u001b[32m447\u001b[39m     \u001b[38;5;28;43mself\u001b[39;49m\u001b[43m.\u001b[49m\u001b[43merror_handler\u001b[49m\u001b[43m.\u001b[49m\u001b[43mcheck_response\u001b[49m\u001b[43m(\u001b[49m\u001b[43mresponse\u001b[49m\u001b[43m)\u001b[49m\n\u001b[32m    448\u001b[39m     response[\u001b[33m\"\u001b[39m\u001b[33mvalue\u001b[39m\u001b[33m\"\u001b[39m] = \u001b[38;5;28mself\u001b[39m._unwrap_value(response.get(\u001b[33m\"\u001b[39m\u001b[33mvalue\u001b[39m\u001b[33m\"\u001b[39m, \u001b[38;5;28;01mNone\u001b[39;00m))\n\u001b[32m    449\u001b[39m     \u001b[38;5;28;01mreturn\u001b[39;00m response\n",
      "\u001b[36mFile \u001b[39m\u001b[32m~/Documents/HonKai-Starrail-Redeemcode-Bot/env/lib/python3.13/site-packages/selenium/webdriver/remote/errorhandler.py:232\u001b[39m, in \u001b[36mErrorHandler.check_response\u001b[39m\u001b[34m(self, response)\u001b[39m\n\u001b[32m    230\u001b[39m         alert_text = value[\u001b[33m\"\u001b[39m\u001b[33malert\u001b[39m\u001b[33m\"\u001b[39m].get(\u001b[33m\"\u001b[39m\u001b[33mtext\u001b[39m\u001b[33m\"\u001b[39m)\n\u001b[32m    231\u001b[39m     \u001b[38;5;28;01mraise\u001b[39;00m exception_class(message, screen, stacktrace, alert_text)  \u001b[38;5;66;03m# type: ignore[call-arg]  # mypy is not smart enough here\u001b[39;00m\n\u001b[32m--> \u001b[39m\u001b[32m232\u001b[39m \u001b[38;5;28;01mraise\u001b[39;00m exception_class(message, screen, stacktrace)\n",
      "\u001b[31mNoSuchWindowException\u001b[39m: Message: no such window: target window already closed\nfrom unknown error: web view not found\n  (Session info: chrome=137.0.7151.57)\nStacktrace:\n0   chromedriver                        0x000000010e519728 chromedriver + 5891880\n1   chromedriver                        0x000000010e510e7a chromedriver + 5856890\n2   chromedriver                        0x000000010dfe1400 chromedriver + 418816\n3   chromedriver                        0x000000010dfb5ad0 chromedriver + 240336\n4   chromedriver                        0x000000010e061ba8 chromedriver + 945064\n5   chromedriver                        0x000000010e080a1c chromedriver + 1071644\n6   chromedriver                        0x000000010e0592b3 chromedriver + 910003\n7   chromedriver                        0x000000010e025507 chromedriver + 697607\n8   chromedriver                        0x000000010e026171 chromedriver + 700785\n9   chromedriver                        0x000000010e4d74d0 chromedriver + 5620944\n10  chromedriver                        0x000000010e4db45f chromedriver + 5637215\n11  chromedriver                        0x000000010e4b28e2 chromedriver + 5470434\n12  chromedriver                        0x000000010e4dbdcf chromedriver + 5639631\n13  chromedriver                        0x000000010e4a10a4 chromedriver + 5398692\n14  chromedriver                        0x000000010e4fe688 chromedriver + 5781128\n15  chromedriver                        0x000000010e4fe850 chromedriver + 5781584\n16  chromedriver                        0x000000010e510a41 chromedriver + 5855809\n17  libsystem_pthread.dylib             0x00007ff817f001d3 _pthread_start + 125\n18  libsystem_pthread.dylib             0x00007ff817efbbd3 thread_start + 15\n"
     ]
    }
   ],
   "source": [
    "from selenium import webdriver\n",
    "from selenium.webdriver.common.by import By\n",
    "from selenium.webdriver.common.keys import Keys\n",
    "from selenium.webdriver.chrome.options import Options\n",
    "\n",
    "user_agent = \"Mozilla/5.0 (Windows NT 10.0; WOW64) AppleWebKit/537.36 (KHTML, like Gecko) Chrome/109.0.0.0 Safari/537.36\"\n",
    "\n",
    "import time\n",
    "chrome_options = Options()\n",
    "chrome_options.add_argument(f\"--user-agnet={user_agent}\")\n",
    "browser = webdriver.Chrome(chrome_options)\n",
    "\n",
    "query = \"https://honkai-star-rail.fandom.com/wiki/Redemption_Code\"\n",
    "\n",
    "browser.get(query)\n",
    "\n",
    "browser.maximize_window()\n",
    "\n",
    "time.sleep(3)\n",
    "\n",
    "\n",
    "title = browser.title\n",
    "\n",
    "\n",
    "browser.save_screenshot(\"redeemcode.jpg\")\n",
    "page_sourse = browser.page_source\n",
    "browser.quit()\n"
   ]
  },
  {
   "cell_type": "code",
   "execution_count": null,
   "id": "246be48b",
   "metadata": {},
   "outputs": [],
   "source": [
    "from bs4 import BeautifulSoup\n",
    "soup = BeautifulSoup(page_sourse)\n",
    "main_page = soup.select(\".page_main\")\n",
    "\n",
    "\n",
    "for idx , main_page in enumerate(main_page , 1):\n",
    "    title = main_page.select_one(\".news_tit\")\n",
    "    description = main_page.select_one(\".dsc_txt_wrap\")\n",
    "    # print(idx, title.get_text() , title[\"href\"])\n",
    "    # print(description.get_text() )\n",
    "    info_group = main_page.select_one(\".info_group\")\n",
    "    print(info_group)\n",
    "    print(title)\n",
    "\n",
    "    \n",
    "\n",
    "\"\"\" \n",
    "dsc_txt_wrap\n",
    " \"\"\"   \n",
    "\"\"\" thumb_box = soup.select(\".thumb_box\")\n",
    "\n",
    "for dix , thumb_box in enumerate(thumb_box , 1):\n",
    "    name = thumb_box.select_one(\".info press\")\n",
    "    thum = thumb_box.select_one(\".thumb\")\n",
    "    print(name)\n",
    "    # print(thumb_box, name.get_text() , name[\"\"])\n",
    "    \n",
    "pass\n",
    " \"\"\"\n",
    "\n"
   ]
  }
 ],
 "metadata": {
  "kernelspec": {
   "display_name": "env",
   "language": "python",
   "name": "python3"
  },
  "language_info": {
   "codemirror_mode": {
    "name": "ipython",
    "version": 3
   },
   "file_extension": ".py",
   "mimetype": "text/x-python",
   "name": "python",
   "nbconvert_exporter": "python",
   "pygments_lexer": "ipython3",
   "version": "3.13.2"
  }
 },
 "nbformat": 4,
 "nbformat_minor": 5
}
